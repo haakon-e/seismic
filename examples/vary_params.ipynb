{
 "cells": [
  {
   "cell_type": "markdown",
   "id": "closed-universal",
   "metadata": {},
   "source": [
    "# Parameter sensitivity study\n",
    "In this notebook, various parameters are varied, and their impact on the solution is studied."
   ]
  },
  {
   "cell_type": "code",
   "execution_count": 1,
   "id": "framed-relevance",
   "metadata": {},
   "outputs": [],
   "source": [
    "# Import modules\n",
    "using Distributions, Random\n",
    "using LinearAlgebra\n",
    "using Plots\n",
    "\n",
    "# Import seismic modules\n",
    "using seismic.Grids\n",
    "using seismic.Rays\n",
    "using seismic.Visualization\n",
    "using seismic.Inversion"
   ]
  },
  {
   "cell_type": "code",
   "execution_count": 2,
   "id": "charming-formation",
   "metadata": {},
   "outputs": [],
   "source": [
    "m=1.0e-3;km = 1000m; s=1.0; ms=1e-3s;  # Units"
   ]
  },
  {
   "cell_type": "markdown",
   "id": "agreed-silence",
   "metadata": {},
   "source": [
    "# Case 1: Vary resolution"
   ]
  },
  {
   "cell_type": "code",
   "execution_count": 3,
   "id": "established-february",
   "metadata": {},
   "outputs": [],
   "source": [
    "Random.seed!(123); # Setting the seed\n",
    "\n",
    "# Define grids\n",
    "phys_dims = Point(3000km, 2000km)\n",
    "n_cells_0 = Point(20, 15)\n",
    "\n",
    "n_ref = 3\n",
    "grids = Grid[]\n",
    "for i in 0:n_ref\n",
    "    n_cells = n_cells_0 * 2^i\n",
    "    Δx = phys_dims.x / n_cells.x\n",
    "    Δy = phys_dims.y / n_cells.y\n",
    "    push!(grids, makeGrid(n_cells.x, n_cells.y, Δx, Δy))\n",
    "end"
   ]
  },
  {
   "cell_type": "code",
   "execution_count": 4,
   "id": "compatible-shark",
   "metadata": {},
   "outputs": [],
   "source": [
    "# Define source location\n",
    "sx = 0.0; sy = phys_dims.y / 2\n",
    "src = Point(sx, sy)\n",
    "\n",
    "# Distribute floats:\n",
    "n_recs = round(Int, phys_dims.x * phys_dims.y / (300km)^2)\n",
    "rx = rand(Uniform(0.1, phys_dims.x - 0.1), n_recs)\n",
    "ry = rand(Uniform(0.1, phys_dims.y - 0.1), n_recs)\n",
    "recs = Point{Float64}[]\n",
    "for i in 1:n_recs\n",
    "    push!(recs,Point(rx[i], ry[i]))\n",
    "end\n",
    "\n",
    "# float-pairs mapping\n",
    "M = receiverPairs(recs, src, max_degrees = 10, max_distance=1000km);\n",
    "\n",
    "# Uncertainty parameters\n",
    "wave_speed = 1.5km/s  # Mean T-wave speed\n",
    "slowness = 1 / wave_speed\n",
    "\n",
    "# Prior (solution) slowness variance Rxx, Units: [seconds / meter]\n",
    "σxx = 2e-4s/km\n",
    "# spatial decorrelation scale. Units: [m]\n",
    "λ = 300km   # typical eddy size\n",
    "\n",
    "# Prior measurement variance Rnn, units: [seconds]\n",
    "σnn = 10m      # uncertainty in position of resurfacing float\n",
    "σ_indp = 10ms  # independent TT noise\n",
    "\n",
    "rnn = Rnn(M*slowness, σnn, σ_indp);  # [s^2]"
   ]
  },
  {
   "cell_type": "code",
   "execution_count": null,
   "id": "european-offering",
   "metadata": {},
   "outputs": [],
   "source": [
    "# Setup problem and compute uncertainty\n",
    "P_summary = zeros(n_ref+1)\n",
    "E_list = Matrix[]\n",
    "rxx_list = Matrix[]\n",
    "for (i, grid) in pairs(grids)\n",
    "    # distance matrix\n",
    "    D = distanceMatrix(recs, src, grid);\n",
    "    # relative distance matrix\n",
    "    E = relativeDistanceMatrix(M,D);\n",
    "    \n",
    "    # Prior solution variance\n",
    "    rxx = Rxx(grid, σxx, λ)  # [(s/m)^2]\n",
    "    # Uncertainty matrix\n",
    "    P = uncertaintyMatrix(E, rxx, rnn);\n",
    "    P_summary[i] = sum(P)\n",
    "    push!(E_list, E)\n",
    "    push!(rxx_list, rxx)\n",
    "end"
   ]
  },
  {
   "cell_type": "code",
   "execution_count": null,
   "id": "future-hours",
   "metadata": {},
   "outputs": [],
   "source": [
    "cells = n_cells_0.x*n_cells_0.y * [2^i for i in 0:n_ref]\n",
    "Δxy = [(grid.Δx*grid.Δy)^2 for grid in grids]\n",
    "N = [(grid.nx*grid.ny)^2 for grid in grids]\n",
    "\n",
    "rxx_summary = [sum(rxx) for rxx in rxx_list]"
   ]
  },
  {
   "cell_type": "code",
   "execution_count": null,
   "id": "judicial-partnership",
   "metadata": {},
   "outputs": [],
   "source": [
    "# Uncertainty for varying grid size\n",
    "P_summary / σxx^2 ./ N\n",
    "# Does not change, as expected."
   ]
  },
  {
   "cell_type": "markdown",
   "id": "rising-makeup",
   "metadata": {},
   "source": [
    "# Case 2: Vary prior location uncertainty"
   ]
  },
  {
   "cell_type": "code",
   "execution_count": null,
   "id": "valuable-proxy",
   "metadata": {},
   "outputs": [],
   "source": [
    "grid = grids[2]\n",
    "\n",
    "# distance matrix\n",
    "D = distanceMatrix(recs, src, grid);\n",
    "# relative distance matrix\n",
    "E = relativeDistanceMatrix(M,D);\n",
    "\n",
    "# Prior solution variance\n",
    "rxx = Rxx(grid, σxx, λ)  # [(s/m)^2]\n",
    "\n",
    "# Setup problem and compute uncertainty\n",
    "σnn_arr = [1, 10, 20, 100, 150, 200, 1000, 1e4, 1e5] * m\n",
    "#σnn_arr = [1, 10, 100] * m\n",
    "sumP_σnn = Float64[]\n",
    "for σnn in σnn_arr\n",
    "    rnn = Rnn(M*slowness, σnn, σ_indp);  # [s^2]\n",
    "    \n",
    "    # Uncertainty matrix\n",
    "    P = uncertaintyMatrix(E, rxx, rnn);\n",
    "    push!(sumP_σnn, sum(P))\n",
    "end"
   ]
  },
  {
   "cell_type": "code",
   "execution_count": null,
   "id": "handled-explorer",
   "metadata": {},
   "outputs": [],
   "source": [
    "plot(σnn_arr/m, sumP_σnn / σxx^2 / N[2], legend = false, xaxis=:log, ylabel=\"sum P\",xlabel=\"σnn [m]\")\n",
    "scatter!(σnn_arr/m, sumP_σnn / σxx^2 / N[2])\n",
    "title!(\"Sensitivity of uncertainty to changes in σnn\")"
   ]
  },
  {
   "cell_type": "markdown",
   "id": "complete-devon",
   "metadata": {},
   "source": [
    "# Case 3: Independent location noise"
   ]
  },
  {
   "cell_type": "code",
   "execution_count": null,
   "id": "tribal-paraguay",
   "metadata": {},
   "outputs": [],
   "source": [
    "grid = grids[2]\n",
    "\n",
    "# distance matrix\n",
    "D = distanceMatrix(recs, src, grid);\n",
    "# relative distance matrix\n",
    "E = relativeDistanceMatrix(M,D);\n",
    "\n",
    "# Prior solution variance\n",
    "rxx = Rxx(grid, σxx, λ)  # [(s/m)^2]\n",
    "\n",
    "# Setup problem and compute uncertainty\n",
    "σ_indp_arr = Array(2:2:20) * ms  # independent TT noise\n",
    "sumP_σ_indp = Float64[]\n",
    "for σ_indp in σ_indp_arr\n",
    "    rnn = Rnn(M*slowness, σnn, σ_indp);  # [s^2]\n",
    "    \n",
    "    # Uncertainty matrix\n",
    "    P = uncertaintyMatrix(E, rxx, rnn);\n",
    "    push!(sumP_σ_indp, sum(P))\n",
    "end"
   ]
  },
  {
   "cell_type": "code",
   "execution_count": null,
   "id": "regulation-translation",
   "metadata": {},
   "outputs": [],
   "source": [
    "plot(σ_indp_arr/ms, sumP_σ_indp / σxx^2 / N[2], legend = false, ylabel=\"sum P\",xlabel=\"σi [m]\")\n",
    "scatter!(σ_indp_arr/ms, sumP_σ_indp / σxx^2 / N[2])\n",
    "title!(\"Sensitivity of uncertainty to changes in σi\")"
   ]
  }
 ],
 "metadata": {
  "kernelspec": {
   "display_name": "Julia 1.5.3",
   "language": "julia",
   "name": "julia-1.5"
  },
  "language_info": {
   "file_extension": ".jl",
   "mimetype": "application/julia",
   "name": "julia",
   "version": "1.5.3"
  }
 },
 "nbformat": 4,
 "nbformat_minor": 5
}
